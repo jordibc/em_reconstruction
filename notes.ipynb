{
 "cells": [
  {
   "cell_type": "markdown",
   "metadata": {},
   "source": [
    "# 3D Volume Reconstruction in Electron Microscopy"
   ]
  },
  {
   "cell_type": "markdown",
   "metadata": {},
   "source": [
    "## Introduction"
   ]
  },
  {
   "cell_type": "markdown",
   "metadata": {},
   "source": [
    "We want to find what is the *resolution* at which we are actually reconstructing a 3D volume (from a set of images in electron microscopy).\n",
    "\n",
    "A standard way to do it involves using bootstrap on the images, generating different 3D volumes and comparing their correlation. The correlation will be high when the resolution is low (low spatial frequencies), and eventually will drop below a certain threshold when the resolution is high enough (high spatial frecuencies). That threshold will inform on the actual resolution of the reconstructed volume. The slope of the correlation-vs-frequency curve will also also inform about the uncertainty associated to that estimation of the achieved resolution.\n",
    "\n",
    "We want to explore how estimate this resolution in a completely different way, starting from first principles. Our assumption will be that the probabilities on the spectral images (the Fourier transforms we will work with) follow a gaussian distribution, and that they will be independent for each \"frexel\" (a voxel in frequency space). The actual measurements we make (the images taken by our electron microscope) will provide us information about the mean of those distributions."
   ]
  },
  {
   "cell_type": "markdown",
   "metadata": {},
   "source": [
    "## Method"
   ]
  },
  {
   "cell_type": "markdown",
   "metadata": {},
   "source": [
    "Instead of simply doing an inverse Fourier transform to get the original (and unknown!) volume, we will produce a series of 3D volumes in the following way:\n",
    "\n",
    "To each frexel we will add a value following a gaussian distribution (in both the real part, and a different one for the imaginary part -- thought how sound that is remains to be explored). Then we will produce a 3D volume. And reapeat for many random values added as uncertainties. The limit of coincidence of the generated 3D volumes will give us and estimation of the resolution that we achieved in our reconstruction."
   ]
  },
  {
   "cell_type": "markdown",
   "metadata": {},
   "source": [
    "## Notes"
   ]
  },
  {
   "cell_type": "markdown",
   "metadata": {},
   "source": [
    "The Fourier transform of a function whose values follow a gaussian distribution is **not** a function whose values follow a gaussian distribution in their real and imaginary parts, and neither in their magnitude and phase."
   ]
  },
  {
   "cell_type": "markdown",
   "metadata": {},
   "source": [
    "If $a$ and $b$ follow gaussian distributions ($a \\sim G(\\mu_a, \\sigma^2_a)$ and $b \\sim G(\\mu_b, \\sigma^2_b)$), then their sum follow a gaussian distribution too: $P(a + b) \\sim G(\\mu_a + \\mu_b, \\sigma^2_a + \\sigma^2_b)$."
   ]
  },
  {
   "cell_type": "markdown",
   "metadata": {},
   "source": [
    "$\\mathcal{F}(f + \\delta) = \\mathcal{F}(f) + \\mathcal{F}(\\delta)$\n",
    "\n",
    "$f \\rightarrow f + \\delta$ with $P(\\delta(x)) \\sim G(0, \\sigma^2)$\n",
    "\n",
    "$\\mathcal{F}(f) \\rightarrow \\mathcal{F}(f + \\delta)$ and $P(\\mathcal{F}(\\delta))$ is tricky. For example:\n",
    "\n",
    "$P(\\mathcal{F}(\\delta)(k=0)) \\sim G(0, n \\sigma^2)$ where $n$ is the number of samples we actually use for $f$. But:\n",
    "\n",
    "$P(\\mathcal{F}(\\delta)(k=1)) \\sim G(0, n \\pi / 4 \\sigma^2 + i n \\pi / 4 \\sigma^2)$ (I think, where the $\\pi / 4$ comes from the integral $\\int_{0}^{\\pi/2} \\cos^2(x) dx$)."
   ]
  },
  {
   "cell_type": "markdown",
   "metadata": {},
   "source": [
    "It may be worth to use the projection-slice theorem (https://en.wikipedia.org/wiki/Projection-slice_theorem)."
   ]
  }
 ],
 "metadata": {
  "kernelspec": {
   "display_name": "Python 3",
   "language": "python",
   "name": "python3"
  },
  "language_info": {
   "codemirror_mode": {
    "name": "ipython",
    "version": 3
   },
   "file_extension": ".py",
   "mimetype": "text/x-python",
   "name": "python",
   "nbconvert_exporter": "python",
   "pygments_lexer": "ipython3",
   "version": "3.6.4+"
  }
 },
 "nbformat": 4,
 "nbformat_minor": 2
}
